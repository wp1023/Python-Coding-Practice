{
 "cells": [
  {
   "cell_type": "code",
   "execution_count": 11,
   "id": "d06d73b2-d96a-454b-a474-ce85f8d4904c",
   "metadata": {},
   "outputs": [
    {
     "name": "stdin",
     "output_type": "stream",
     "text": [
      "Enter the name xydellohdqp xydonderfulwdqp xydorldwdqp\n",
      "Enter 1 for encode and enter 2 for decode 3\n"
     ]
    },
    {
     "name": "stdout",
     "output_type": "stream",
     "text": [
      "Enter a valid input\n"
     ]
    },
    {
     "name": "stdin",
     "output_type": "stream",
     "text": [
      "Enter 1 for encode and enter 2 for decode 2\n"
     ]
    },
    {
     "name": "stdout",
     "output_type": "stream",
     "text": [
      "decode:\n",
      "hello wonderful world\n"
     ]
    }
   ],
   "source": [
    "#If the word length is less than 3 then move the 1st character to the end. Input 3 random values at the start and 3 random values at the end\n",
    "#If the word length is less than 3 then reverse the word\n",
    "\n",
    "import random\n",
    "import string\n",
    "\n",
    "#encoding\n",
    "\n",
    "random_alpha=random.choices(string.ascii_lowercase,k=3)\n",
    "op=''\n",
    "for i in random_alpha:\n",
    "    op=i+op\n",
    "# print(op)\n",
    "    \n",
    "    \n",
    "\n",
    "\n",
    "random_beta=random.choices(string.ascii_lowercase,k=3)\n",
    "oo=''\n",
    "for i in random_beta:\n",
    "    oo=i+oo\n",
    "# print(oo)\n",
    "\n",
    "\n",
    "a=input(\"Enter the name\")\n",
    "    # print(len(a))\n",
    "    # print(a[1::1])\n",
    "\n",
    "    \n",
    "def encode():    \n",
    "    print(\"Encoded:\")\n",
    "    spl=a.split()\n",
    "    newword=[]\n",
    "    for j in spl:\n",
    "        if len(j)>=3:    \n",
    "            b=j[1::1]\n",
    "            c=b+j[0]\n",
    "            m=op+c+oo\n",
    "            newword.append(m)\n",
    "        else:\n",
    "            newword.append(j[::-1])\n",
    "    print(\" \".join(newword))\n",
    "\n",
    "#decoding\n",
    "def decode():\n",
    "    print(\"decode:\")\n",
    "    # f=input(\"Enter the word you want to decode\")\n",
    "    spl1=a.split()\n",
    "    newword1=[]\n",
    "    for k in spl1:\n",
    "        if len(k)>=3:\n",
    "            q=k[3:-3:1]\n",
    "            # print(q)\n",
    "            w=q[0:-1:1]\n",
    "            # print(w)\n",
    "            e=q[-1:]\n",
    "            r=e+w\n",
    "            newword1.append(r)\n",
    "        else:\n",
    "            newword1.append(k[-1::-1])\n",
    "    print(\" \".join(newword1))\n",
    "\n",
    "z=int(input(\"Enter 1 for encode and enter 2 for decode\"))\n",
    "if z==1:\n",
    "    encode()\n",
    "elif (z<1 or z>2):\n",
    "    print(\"Enter a valid input\")\n",
    "    z=int(input(\"Enter 1 for encode and enter 2 for decode\"))\n",
    "    if z==1:\n",
    "        encode()\n",
    "    else:\n",
    "        decode()\n",
    "else:          \n",
    "    decode()"
   ]
  },
  {
   "cell_type": "code",
   "execution_count": null,
   "id": "59b54598-f35f-42f1-8314-b17f46515437",
   "metadata": {},
   "outputs": [],
   "source": []
  }
 ],
 "metadata": {
  "kernelspec": {
   "display_name": "Python 3 (ipykernel)",
   "language": "python",
   "name": "python3"
  },
  "language_info": {
   "codemirror_mode": {
    "name": "ipython",
    "version": 3
   },
   "file_extension": ".py",
   "mimetype": "text/x-python",
   "name": "python",
   "nbconvert_exporter": "python",
   "pygments_lexer": "ipython3",
   "version": "3.12.4"
  }
 },
 "nbformat": 4,
 "nbformat_minor": 5
}
