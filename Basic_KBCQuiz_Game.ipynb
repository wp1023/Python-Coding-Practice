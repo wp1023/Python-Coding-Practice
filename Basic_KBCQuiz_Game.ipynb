{
 "cells": [
  {
   "cell_type": "code",
   "execution_count": 9,
   "id": "0a839c62-0cb9-4298-9623-8bef1b7c103a",
   "metadata": {},
   "outputs": [
    {
     "name": "stdout",
     "output_type": "stream",
     "text": [
      "Question: Who was the first woman Prime Minister of India?\n",
      "A) Indira Gandhi\n",
      "B) Sarojini Naidu\n",
      "C) Sushma Swaraj\n",
      "D) Pratibha Patil\n"
     ]
    },
    {
     "name": "stdin",
     "output_type": "stream",
     "text": [
      "Enter your answer: \n",
      " A) Indira Gandhi\n"
     ]
    },
    {
     "name": "stdout",
     "output_type": "stream",
     "text": [
      "You have won 1 million!\n",
      "Question: What is the chemical symbol for water?\n",
      "A) H2O\n",
      "B) CO2\n",
      "C) O2\n",
      "D) H2SO4\n"
     ]
    },
    {
     "name": "stdin",
     "output_type": "stream",
     "text": [
      "Enter your answer: \n",
      " A) H2O\n"
     ]
    },
    {
     "name": "stdout",
     "output_type": "stream",
     "text": [
      "You have won 2 million!\n",
      "Question: Who wrote the famous novel '1984'?\n",
      "A) George Orwell\n",
      "B) Aldous Huxley\n",
      "C) Mark Twain\n",
      "D) Charles Dickens\n"
     ]
    },
    {
     "name": "stdin",
     "output_type": "stream",
     "text": [
      "Enter your answer: \n",
      " C) Mark Twain\n"
     ]
    },
    {
     "name": "stdout",
     "output_type": "stream",
     "text": [
      "You have lost!\n",
      "You have won 2 million!\n"
     ]
    }
   ],
   "source": [
    "import random\n",
    "\n",
    "\n",
    "questions = [\n",
    "    'What is the capital city of India?',\n",
    "    \"Who is known as the 'Father of the Nation' in India?\",\n",
    "    'Which is the largest planet in our solar system?',\n",
    "    \"Who wrote the famous novel '1984'?\",\n",
    "    'In which year did India gain independence?',\n",
    "    'What is the chemical symbol for water?',\n",
    "    \"Which animal is known as the 'King of the Jungle'?\",\n",
    "    \"Who is the author of the famous book 'The Alchemist'?\",\n",
    "    'Which element is represented by the symbol \"O\" in the periodic table?',\n",
    "    'Who was the first woman Prime Minister of India?'\n",
    "]\n",
    "\n",
    "\n",
    "options = {\n",
    "    'What is the capital city of India?': ['A) New Delhi', 'B) Mumbai', 'C) Kolkata', 'D) Chennai'],\n",
    "    \"Who is known as the 'Father of the Nation' in India?\": ['A) Jawaharlal Nehru', 'B) Subhas Chandra Bose', 'C) Mahatma Gandhi', 'D) Bhagat Singh'],\n",
    "    'Which is the largest planet in our solar system?': ['A) Earth', 'B) Mars', 'C) Jupiter', 'D) Saturn'],\n",
    "    \"Who wrote the famous novel '1984'?\": ['A) George Orwell', 'B) Aldous Huxley', 'C) Mark Twain', 'D) Charles Dickens'],\n",
    "    'In which year did India gain independence?': ['A) 1947', 'B) 1950', 'C) 1935', 'D) 1965'],\n",
    "    'What is the chemical symbol for water?': ['A) H2O', 'B) CO2', 'C) O2', 'D) H2SO4'],\n",
    "    \"Which animal is known as the 'King of the Jungle'?\": ['A) Elephant', 'B) Tiger', 'C) Lion', 'D) Leopard'],\n",
    "    \"Who is the author of the famous book 'The Alchemist'?\": ['A) Paulo Coelho', 'B) J.K. Rowling', 'C) Chetan Bhagat', 'D) Ruskin Bond'],\n",
    "    'Which element is represented by the symbol \"O\" in the periodic table?': ['A) Oxygen', 'B) Ozone', 'C) Osmium', 'D) Oganesson'],\n",
    "    'Who was the first woman Prime Minister of India?': ['A) Indira Gandhi', 'B) Sarojini Naidu', 'C) Sushma Swaraj', 'D) Pratibha Patil']\n",
    "}\n",
    "\n",
    "\n",
    "answers = {\n",
    "    'What is the capital city of India?': 'A) New Delhi',\n",
    "    \"Who is known as the 'Father of the Nation' in India?\": 'C) Mahatma Gandhi',\n",
    "    'Which is the largest planet in our solar system?': 'C) Jupiter',\n",
    "    \"Who wrote the famous novel '1984'?\": 'A) George Orwell',\n",
    "    'In which year did India gain independence?': 'A) 1947',\n",
    "    'What is the chemical symbol for water?': 'A) H2O',\n",
    "    \"Which animal is known as the 'King of the Jungle'?\": 'C) Lion',\n",
    "    \"Who is the author of the famous book 'The Alchemist'?\": 'A) Paulo Coelho',\n",
    "    'Which element is represented by the symbol \"O\" in the periodic table?': 'A) Oxygen',\n",
    "    'Who was the first woman Prime Minister of India?': 'A) Indira Gandhi'\n",
    "}\n",
    "\n",
    "\n",
    "score = 0\n",
    "\n",
    "\n",
    "while questions:  \n",
    "   \n",
    "    random_question = random.choice(questions)\n",
    "    \n",
    "   \n",
    "    random_option = options[random_question]\n",
    "    random_answer = answers[random_question]\n",
    "    \n",
    "    \n",
    "    print(f\"Question: {random_question}\")\n",
    "    for option in random_option:\n",
    "        print(option)\n",
    "\n",
    "    \n",
    "    answer = input(\"Enter your answer: \\n\")\n",
    "\n",
    "    \n",
    "    if answer == random_answer:\n",
    "        score += 1\n",
    "        print(f\"You have won {score} million!\")\n",
    "    else:\n",
    "        print(\"You have lost!\")\n",
    "        break  \n",
    "    questions.remove(random_question)\n",
    "\n",
    "print(f\"Alas! You take home {score} million!\")\n",
    "\n",
    "\n",
    "    "
   ]
  },
  {
   "cell_type": "code",
   "execution_count": null,
   "id": "9092d244-80a9-4e67-b943-ab4a64236601",
   "metadata": {},
   "outputs": [],
   "source": []
  }
 ],
 "metadata": {
  "kernelspec": {
   "display_name": "Python 3 (ipykernel)",
   "language": "python",
   "name": "python3"
  },
  "language_info": {
   "codemirror_mode": {
    "name": "ipython",
    "version": 3
   },
   "file_extension": ".py",
   "mimetype": "text/x-python",
   "name": "python",
   "nbconvert_exporter": "python",
   "pygments_lexer": "ipython3",
   "version": "3.12.4"
  }
 },
 "nbformat": 4,
 "nbformat_minor": 5
}
